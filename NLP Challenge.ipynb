{
 "cells": [
  {
   "cell_type": "markdown",
   "id": "5cd2cfc2",
   "metadata": {},
   "source": [
    "## 1. Answering Questions"
   ]
  },
  {
   "cell_type": "markdown",
   "id": "63a4d991",
   "metadata": {},
   "source": [
    "#### The first things that comes to my mind are the Recurrent Neural Networks (RNNs) and Transformers. \n",
    "\n",
    "RNNs are a family of neural networks for analyzing sequential data. RNNs process sequences by iterating through the sequence elements and maintaining a state containing information about what the model has seen so far. One important model of RNNs is the Long Short Term Memory Model (LSTM), which leverages the Gate mechanism to determine which information the cell needs to remember and which to forget. However, RNNs including LSTM cannot be trained in parallel, so they are computationally expensive.\n",
    "\n",
    "Transformers are also designed to handle sequential input data. However, unlike RNNs, transformers do not necessarily process the data in order. They learn contextual relations between words (or sub-words) in a text. Transformers adopt the mechanism of self-attention, which looks at an input sequence and decides at each step which other parts of the sequence are important. It resembles the human brain: When reading this text, you always focus on the word you read but at the same time your mind still holds the important keywords of the text in memory in order to provide context.\n",
    "\n",
    "So, if the input data is a natural language sentence, the transformer does not need to process the beginning of the sentence before the end. Rather it identifies the context that confers meaning to each word in the sentence. This feature allows for more parallelization than RNNs and therefore reduces training times. The additional training parallelization allows training on larger datasets. It led to the development of pretrained systems such as Bidirectional Encoder Representations from Transformers (BERT) and Generative Pre-trained Transformer (GPT), which were trained with large language datasets and can be fine-tuned for specific tasks."
   ]
  },
  {
   "cell_type": "markdown",
   "id": "1825162c",
   "metadata": {},
   "source": [
    "I also open the link in the doc and find that the question and answer are taken from the Stanford Question Answering Dataset (SQuAD). The work in (Wang and Jiang, 2016) was one of the first to investigate the dataset. The authors proposed an end-to-end architecture based on match-LSTM and pointer networks. (Seo et al., 2016) introduced the bi-directional attention flow network which captures the question-document context at different levels of granularity. \n",
    "(Wang et al., 2017) proposed a gated attention-based recurrent network where self-match attention mechanism is first incorporated. \n",
    "\n",
    "(Devlin et al., 2018) introduced BERT which is designed to pre-train deep bidirectional representations from unlabeled text by jointly conditioning on both left and right context in all layers. As a result, the pre-trained BERT model can be finetuned with just one additional output layer to create state-of-the-art models for a wide range of tasks including question answering."
   ]
  },
  {
   "cell_type": "markdown",
   "id": "3e6458ee",
   "metadata": {},
   "source": [
    "#### The following are the demonstration of one pre-trained BERT model:"
   ]
  },
  {
   "cell_type": "code",
   "execution_count": 1,
   "id": "37467156",
   "metadata": {},
   "outputs": [],
   "source": [
    "# !pip install transformers"
   ]
  },
  {
   "cell_type": "code",
   "execution_count": 2,
   "id": "7727198f",
   "metadata": {},
   "outputs": [],
   "source": [
    "# !pip install torch"
   ]
  },
  {
   "cell_type": "code",
   "execution_count": 3,
   "id": "df7b8a20",
   "metadata": {},
   "outputs": [],
   "source": [
    "import torch"
   ]
  },
  {
   "cell_type": "markdown",
   "id": "ec1a7e43",
   "metadata": {},
   "source": [
    "For Question Answering we use the `BertForQuestionAnswering` class from the `transformers` library.\n",
    "\n",
    "The `transformers` library has a large collection of pre-trained models which you can reference by name and load easily. The full list is in their documentation [here](https://huggingface.co/transformers/pretrained_models.html).\n",
    "\n",
    "You can notice that there are also many pre-trained models in the bio domain.\n",
    "\n",
    "For Question Answering, they have a version of BERT-large that has already been fine-tuned for the SQuAD benchmark."
   ]
  },
  {
   "cell_type": "code",
   "execution_count": 4,
   "id": "f2563b66",
   "metadata": {},
   "outputs": [],
   "source": [
    "from transformers import BertForQuestionAnswering\n",
    "\n",
    "model = BertForQuestionAnswering.from_pretrained('bert-large-uncased-whole-word-masking-finetuned-squad')"
   ]
  },
  {
   "cell_type": "markdown",
   "id": "922c4791",
   "metadata": {},
   "source": [
    "Load the tokenizer as well. "
   ]
  },
  {
   "cell_type": "code",
   "execution_count": 5,
   "id": "faa3d218",
   "metadata": {},
   "outputs": [],
   "source": [
    "from transformers import BertTokenizer\n",
    "\n",
    "tokenizer = BertTokenizer.from_pretrained('bert-large-uncased-whole-word-masking-finetuned-squad')"
   ]
  },
  {
   "cell_type": "markdown",
   "id": "e6a225ac",
   "metadata": {},
   "source": [
    "Input the question and answer."
   ]
  },
  {
   "cell_type": "code",
   "execution_count": 6,
   "id": "1fcc11a5",
   "metadata": {},
   "outputs": [],
   "source": [
    "question = \"Which team won super bowl 50?\"\n",
    "answer_text = \"Super Bowl 50 was an American football game to determine the champion of the National Football League (NFL) for the 2015 season. The American Football Conference (AFC) champion Denver Broncos defeated the National Football Conference (NFC) champion Carolina Panthers 24-10 to earn their third super bowl title. The game was played on February 7, 2016, at Levi’s Stadium in the San Francisco Bay Area at Santa Clara, California.\""
   ]
  },
  {
   "cell_type": "markdown",
   "id": "53698397",
   "metadata": {},
   "source": [
    "We'll need to run the BERT tokenizer against both the `question` and the `answer_text`."
   ]
  },
  {
   "cell_type": "code",
   "execution_count": 7,
   "id": "99e038f8",
   "metadata": {},
   "outputs": [],
   "source": [
    "inputs = tokenizer(question, answer_text, return_tensors=\"pt\")"
   ]
  },
  {
   "cell_type": "markdown",
   "id": "e1f21c08",
   "metadata": {},
   "source": [
    "We now can feed our example into the model.\n"
   ]
  },
  {
   "cell_type": "code",
   "execution_count": 8,
   "id": "22513ba4",
   "metadata": {},
   "outputs": [],
   "source": [
    "with torch.no_grad():\n",
    "    outputs = model(**inputs)"
   ]
  },
  {
   "cell_type": "markdown",
   "id": "596a0465",
   "metadata": {},
   "source": [
    "We can highlight the answer just by looking at the most probable start and end words. "
   ]
  },
  {
   "cell_type": "code",
   "execution_count": 9,
   "id": "081cadbc",
   "metadata": {},
   "outputs": [],
   "source": [
    "# Find the tokens with the highest `start` and `end` scores.\n",
    "answer_start_index = outputs.start_logits.argmax()\n",
    "answer_end_index = outputs.end_logits.argmax()"
   ]
  },
  {
   "cell_type": "code",
   "execution_count": 10,
   "id": "c35908d4",
   "metadata": {},
   "outputs": [
    {
     "name": "stdout",
     "output_type": "stream",
     "text": [
      "Answer: \"denver broncos\"\n"
     ]
    }
   ],
   "source": [
    "predict_answer_tokens = inputs.input_ids[0, answer_start_index : answer_end_index + 1]\n",
    "answer = tokenizer.decode(predict_answer_tokens)\n",
    "print('Answer: \"' + answer + '\"')"
   ]
  },
  {
   "cell_type": "markdown",
   "id": "338f9189",
   "metadata": {},
   "source": [
    " "
   ]
  },
  {
   "cell_type": "markdown",
   "id": "23e24f0c",
   "metadata": {},
   "source": [
    "## 2. Web scraping"
   ]
  },
  {
   "cell_type": "markdown",
   "id": "f3b5d444",
   "metadata": {},
   "source": [
    "Import necessary modules"
   ]
  },
  {
   "cell_type": "code",
   "execution_count": 11,
   "id": "9d85affc",
   "metadata": {},
   "outputs": [],
   "source": [
    "import requests\n",
    "from bs4 import BeautifulSoup\n",
    "import pandas as pd\n",
    "import re"
   ]
  },
  {
   "cell_type": "code",
   "execution_count": 12,
   "id": "fa2c6ccd",
   "metadata": {},
   "outputs": [],
   "source": [
    "# Affiliations can only be found after collecting all URLs\n",
    "def get_affiliations(URL_list):\n",
    "    affiliation_list = []\n",
    "    for url in URL_list:\n",
    "        # Note that there is no author and corresponding affiliation info for corrections\n",
    "        if 'corr' not in url:\n",
    "            response_affiliation = requests.get(url + '.info')\n",
    "            affiliation_page = BeautifulSoup(response_affiliation.content,'lxml')\n",
    "            affiliations = ''\n",
    "            odds = affiliation_page.find_all('li',{\"class\":'odd'})\n",
    "            for odd in odds:\n",
    "                affiliations = affiliations + \"; \" + odd.get_text()\n",
    "            evens = affiliation_page.find_all('li',{\"class\":'even'})\n",
    "            for even in evens:\n",
    "                affiliations = affiliations + \"; \" + even.get_text()\n",
    "\n",
    "            affiliations = affiliations[2:]\n",
    "            affiliation_list.append(affiliations)\n",
    "        else:\n",
    "            affiliation_list.append(float('nan'))\n",
    "    return affiliation_list \n",
    "\n",
    "# Define the function to extract data from the given volume and issue\n",
    "def get_journals(volume = 10, issue = 3):\n",
    "    output = pd.DataFrame()\n",
    "    url = \"https://jitc.bmj.com/content/{volume}/{issue}\".format(volume = volume, issue = issue)\n",
    "    response = requests.get(url)\n",
    "    if response.status_code == 200:\n",
    "        print(\"Success\")\n",
    "    else:\n",
    "        print(\"Failure\")\n",
    "    results_page = BeautifulSoup(response.content,'lxml') \n",
    "    journals = results_page.find_all('div',{\"class\":re.compile('issue-toc-section issue-toc-section*')})\n",
    "    journal_list = []\n",
    "    authors = []\n",
    "    for journal in journals:\n",
    "        journal_list.extend(journal.find_all('a',{\"class\":'highwire-cite-linked-title'}))\n",
    "        authors.extend(journal.find_all('div',{\"class\":'highwire-cite-authors'}))\n",
    "\n",
    "    title_list = []\n",
    "    author_list = []\n",
    "    URL_list = []\n",
    "    for journal in journal_list:\n",
    "        title_list.append(journal.get_text())\n",
    "        URL_list.append('https://jitc.bmj.com'+journal.get('href'))\n",
    "\n",
    "    for author in authors:\n",
    "        author_list.append(author.get_text())\n",
    "\n",
    "    num_corrections = len(title_list) - len(author_list)\n",
    "    for i in range(num_corrections):\n",
    "        # corrections do not mention authors\n",
    "        author_list.append(float('nan'))\n",
    "    affiliation_list = get_affiliations(URL_list)   \n",
    "    \n",
    "    output['title'] = title_list\n",
    "    output['authors'] = author_list\n",
    "    output['affiliations'] = affiliation_list\n",
    "    output['URL'] = URL_list\n",
    "    \n",
    "    return output"
   ]
  },
  {
   "cell_type": "markdown",
   "id": "ce61c97a",
   "metadata": {},
   "source": [
    "Please do not mind the warning.\n",
    "\n",
    "The BeautifulSoup class was actually created to parse HTML files. However, the way that it parses HTML files involves coming up with a complex tree consisting of Python objects. This type of tree structure is applicable to XML files as well. Therefore, the BeautifulSoup class can also be used to parse XML files directly."
   ]
  },
  {
   "cell_type": "code",
   "execution_count": 13,
   "id": "e6a3dba9",
   "metadata": {},
   "outputs": [
    {
     "name": "stdout",
     "output_type": "stream",
     "text": [
      "Success\n"
     ]
    },
    {
     "name": "stderr",
     "output_type": "stream",
     "text": [
      "/Users/sihanzhang/miniforge3_new/lib/python3.9/site-packages/bs4/builder/__init__.py:545: XMLParsedAsHTMLWarning: It looks like you're parsing an XML document using an HTML parser. If this really is an HTML document (maybe it's XHTML?), you can ignore or filter this warning. If it's XML, you should know that using an XML parser will be more reliable. To parse this document as XML, make sure you have the lxml package installed, and pass the keyword argument `features=\"xml\"` into the BeautifulSoup constructor.\n",
      "  warnings.warn(\n"
     ]
    }
   ],
   "source": [
    "output = get_journals()"
   ]
  },
  {
   "cell_type": "code",
   "execution_count": 14,
   "id": "49a347eb",
   "metadata": {},
   "outputs": [
    {
     "data": {
      "text/html": [
       "<div>\n",
       "<style scoped>\n",
       "    .dataframe tbody tr th:only-of-type {\n",
       "        vertical-align: middle;\n",
       "    }\n",
       "\n",
       "    .dataframe tbody tr th {\n",
       "        vertical-align: top;\n",
       "    }\n",
       "\n",
       "    .dataframe thead th {\n",
       "        text-align: right;\n",
       "    }\n",
       "</style>\n",
       "<table border=\"1\" class=\"dataframe\">\n",
       "  <thead>\n",
       "    <tr style=\"text-align: right;\">\n",
       "      <th></th>\n",
       "      <th>title</th>\n",
       "      <th>authors</th>\n",
       "      <th>affiliations</th>\n",
       "      <th>URL</th>\n",
       "    </tr>\n",
       "  </thead>\n",
       "  <tbody>\n",
       "    <tr>\n",
       "      <th>0</th>\n",
       "      <td>Original research: Unique characteristics of t...</td>\n",
       "      <td>Tsukasa Masuda, Nobuyuki Tanaka, Kimiharu Taka...</td>\n",
       "      <td>Tsukasa Masuda Department of Urology, Keio Uni...</td>\n",
       "      <td>https://jitc.bmj.com/content/10/3/e003883</td>\n",
       "    </tr>\n",
       "    <tr>\n",
       "      <th>1</th>\n",
       "      <td>Original research: STAT3 inhibitor Napabucasin...</td>\n",
       "      <td>Rebekka Bitsch, Annina Kurzay, Feyza Özbay Kur...</td>\n",
       "      <td>Rebekka Bitsch Skin Cancer Unit/ Department of...</td>\n",
       "      <td>https://jitc.bmj.com/content/10/3/e004384</td>\n",
       "    </tr>\n",
       "    <tr>\n",
       "      <th>2</th>\n",
       "      <td>Original research: TGFβ receptor inhibition un...</td>\n",
       "      <td>Pauline Hamon, Marine Gerbé De Thoré, Marion C...</td>\n",
       "      <td>Pauline Hamon INSERM U1030, Gustave Roussy, Un...</td>\n",
       "      <td>https://jitc.bmj.com/content/10/3/e003519</td>\n",
       "    </tr>\n",
       "    <tr>\n",
       "      <th>3</th>\n",
       "      <td>IL-1R8 silencing improves the anti-tumor funct...</td>\n",
       "      <td>Nadine Landolina, Francesca Romana Mariotti, T...</td>\n",
       "      <td>Nadine Landolina Immunology Research Area, Bam...</td>\n",
       "      <td>https://jitc.bmj.com/content/10/3/e003858</td>\n",
       "    </tr>\n",
       "    <tr>\n",
       "      <th>4</th>\n",
       "      <td>Original research: ZEB1 transcription factor p...</td>\n",
       "      <td>Maud Plaschka, Valentin Benboubker, Maxime Gri...</td>\n",
       "      <td>Maud Plaschka Cancer Cell Plasticity in Melano...</td>\n",
       "      <td>https://jitc.bmj.com/content/10/3/e003484</td>\n",
       "    </tr>\n",
       "  </tbody>\n",
       "</table>\n",
       "</div>"
      ],
      "text/plain": [
       "                                               title  \\\n",
       "0  Original research: Unique characteristics of t...   \n",
       "1  Original research: STAT3 inhibitor Napabucasin...   \n",
       "2  Original research: TGFβ receptor inhibition un...   \n",
       "3  IL-1R8 silencing improves the anti-tumor funct...   \n",
       "4  Original research: ZEB1 transcription factor p...   \n",
       "\n",
       "                                             authors  \\\n",
       "0  Tsukasa Masuda, Nobuyuki Tanaka, Kimiharu Taka...   \n",
       "1  Rebekka Bitsch, Annina Kurzay, Feyza Özbay Kur...   \n",
       "2  Pauline Hamon, Marine Gerbé De Thoré, Marion C...   \n",
       "3  Nadine Landolina, Francesca Romana Mariotti, T...   \n",
       "4  Maud Plaschka, Valentin Benboubker, Maxime Gri...   \n",
       "\n",
       "                                        affiliations  \\\n",
       "0  Tsukasa Masuda Department of Urology, Keio Uni...   \n",
       "1  Rebekka Bitsch Skin Cancer Unit/ Department of...   \n",
       "2  Pauline Hamon INSERM U1030, Gustave Roussy, Un...   \n",
       "3  Nadine Landolina Immunology Research Area, Bam...   \n",
       "4  Maud Plaschka Cancer Cell Plasticity in Melano...   \n",
       "\n",
       "                                         URL  \n",
       "0  https://jitc.bmj.com/content/10/3/e003883  \n",
       "1  https://jitc.bmj.com/content/10/3/e004384  \n",
       "2  https://jitc.bmj.com/content/10/3/e003519  \n",
       "3  https://jitc.bmj.com/content/10/3/e003858  \n",
       "4  https://jitc.bmj.com/content/10/3/e003484  "
      ]
     },
     "execution_count": 14,
     "metadata": {},
     "output_type": "execute_result"
    }
   ],
   "source": [
    "# The dataframe containing required info\n",
    "output.head()"
   ]
  },
  {
   "cell_type": "code",
   "execution_count": 15,
   "id": "da8b6af1",
   "metadata": {},
   "outputs": [],
   "source": [
    "# Save as csv\n",
    "output.to_csv('/Users/sihanzhang/Desktop/journals.csv')"
   ]
  },
  {
   "cell_type": "markdown",
   "id": "aa31b651",
   "metadata": {},
   "source": [
    " "
   ]
  },
  {
   "cell_type": "markdown",
   "id": "2778a294",
   "metadata": {},
   "source": [
    "## 3. Data Preprocessing"
   ]
  },
  {
   "cell_type": "code",
   "execution_count": 2,
   "id": "36f2de20",
   "metadata": {},
   "outputs": [],
   "source": [
    "import re\n",
    "import pandas as pd\n",
    "import nltk\n",
    "from nltk.corpus import stopwords\n",
    "from nltk.corpus import wordnet\n",
    "from nltk.stem import WordNetLemmatizer"
   ]
  },
  {
   "cell_type": "code",
   "execution_count": 3,
   "id": "5724f84f",
   "metadata": {},
   "outputs": [
    {
     "data": {
      "text/html": [
       "<div>\n",
       "<style scoped>\n",
       "    .dataframe tbody tr th:only-of-type {\n",
       "        vertical-align: middle;\n",
       "    }\n",
       "\n",
       "    .dataframe tbody tr th {\n",
       "        vertical-align: top;\n",
       "    }\n",
       "\n",
       "    .dataframe thead th {\n",
       "        text-align: right;\n",
       "    }\n",
       "</style>\n",
       "<table border=\"1\" class=\"dataframe\">\n",
       "  <thead>\n",
       "    <tr style=\"text-align: right;\">\n",
       "      <th></th>\n",
       "      <th>document</th>\n",
       "      <th>emotion</th>\n",
       "    </tr>\n",
       "  </thead>\n",
       "  <tbody>\n",
       "    <tr>\n",
       "      <th>0</th>\n",
       "      <td>i didnt feel humiliated</td>\n",
       "      <td>sadness</td>\n",
       "    </tr>\n",
       "    <tr>\n",
       "      <th>1</th>\n",
       "      <td>i can go from feeling so hopeless to so damned...</td>\n",
       "      <td>sadness</td>\n",
       "    </tr>\n",
       "    <tr>\n",
       "      <th>2</th>\n",
       "      <td>im grabbing a minute to post i feel greedy wrong</td>\n",
       "      <td>anger</td>\n",
       "    </tr>\n",
       "    <tr>\n",
       "      <th>3</th>\n",
       "      <td>i am ever feeling nostalgic about the fireplac...</td>\n",
       "      <td>love</td>\n",
       "    </tr>\n",
       "    <tr>\n",
       "      <th>4</th>\n",
       "      <td>i am feeling grouchy</td>\n",
       "      <td>anger</td>\n",
       "    </tr>\n",
       "  </tbody>\n",
       "</table>\n",
       "</div>"
      ],
      "text/plain": [
       "                                            document  emotion\n",
       "0                            i didnt feel humiliated  sadness\n",
       "1  i can go from feeling so hopeless to so damned...  sadness\n",
       "2   im grabbing a minute to post i feel greedy wrong    anger\n",
       "3  i am ever feeling nostalgic about the fireplac...     love\n",
       "4                               i am feeling grouchy    anger"
      ]
     },
     "execution_count": 3,
     "metadata": {},
     "output_type": "execute_result"
    }
   ],
   "source": [
    "# import training data\n",
    "df_train = pd.read_csv('/Users/sihanzhang/Desktop/train.txt' , sep=';' , header=None)\n",
    "df_train.columns = ['document', 'emotion']\n",
    "df_train.head()"
   ]
  },
  {
   "cell_type": "code",
   "execution_count": 4,
   "id": "21822bd5",
   "metadata": {},
   "outputs": [],
   "source": [
    "# 1. getting rid of non-alphabet characters\n",
    "def remove_nonalphabet(text):\n",
    "    return re.sub(r'[^A-Za-z0-9 ]+', '', text)\n",
    "df_train['document'] = df_train['document'].apply(lambda text: remove_nonalphabet(text))"
   ]
  },
  {
   "cell_type": "code",
   "execution_count": 5,
   "id": "edfd68a6",
   "metadata": {},
   "outputs": [],
   "source": [
    "# 2. converting to lowercase\n",
    "df_train['document'] = df_train['document'].str.lower()"
   ]
  },
  {
   "cell_type": "code",
   "execution_count": 6,
   "id": "23bcab5a",
   "metadata": {},
   "outputs": [],
   "source": [
    "# 3. removing stop words\n",
    "STOPWORDS = set(stopwords.words('english'))\n",
    "def remove_stopwords(text):\n",
    "    \"\"\"custom function to remove the stopwords\"\"\"\n",
    "    return \" \".join([word for word in str(text).split() if word not in STOPWORDS])\n",
    "\n",
    "df_train['document'] = df_train['document'].apply(lambda text: remove_stopwords(text))"
   ]
  },
  {
   "cell_type": "code",
   "execution_count": 7,
   "id": "73632d53",
   "metadata": {},
   "outputs": [],
   "source": [
    "# 4. performing lemmanization\n",
    "lemmatizer = WordNetLemmatizer()\n",
    "wordnet_map = {\"N\":wordnet.NOUN, \"V\":wordnet.VERB, \"J\":wordnet.ADJ, \"R\":wordnet.ADV}\n",
    "def lemmatize_words(text):\n",
    "    pos_tagged_text = nltk.pos_tag(text.split())\n",
    "    return \" \".join([lemmatizer.lemmatize(word, wordnet_map.get(pos[0], wordnet.NOUN)) for word, pos in pos_tagged_text])\n",
    "\n",
    "df_train['document'] = df_train['document'].apply(lambda text: lemmatize_words(text))"
   ]
  },
  {
   "cell_type": "code",
   "execution_count": 8,
   "id": "c12fd6a3",
   "metadata": {},
   "outputs": [
    {
     "data": {
      "text/html": [
       "<div>\n",
       "<style scoped>\n",
       "    .dataframe tbody tr th:only-of-type {\n",
       "        vertical-align: middle;\n",
       "    }\n",
       "\n",
       "    .dataframe tbody tr th {\n",
       "        vertical-align: top;\n",
       "    }\n",
       "\n",
       "    .dataframe thead th {\n",
       "        text-align: right;\n",
       "    }\n",
       "</style>\n",
       "<table border=\"1\" class=\"dataframe\">\n",
       "  <thead>\n",
       "    <tr style=\"text-align: right;\">\n",
       "      <th></th>\n",
       "      <th>document</th>\n",
       "      <th>emotion</th>\n",
       "    </tr>\n",
       "  </thead>\n",
       "  <tbody>\n",
       "    <tr>\n",
       "      <th>0</th>\n",
       "      <td>didnt feel humiliate</td>\n",
       "      <td>sadness</td>\n",
       "    </tr>\n",
       "    <tr>\n",
       "      <th>1</th>\n",
       "      <td>go feeling hopeless damn hopeful around someon...</td>\n",
       "      <td>sadness</td>\n",
       "    </tr>\n",
       "    <tr>\n",
       "      <th>2</th>\n",
       "      <td>im grab minute post feel greedy wrong</td>\n",
       "      <td>anger</td>\n",
       "    </tr>\n",
       "    <tr>\n",
       "      <th>3</th>\n",
       "      <td>ever feel nostalgic fireplace know still property</td>\n",
       "      <td>love</td>\n",
       "    </tr>\n",
       "    <tr>\n",
       "      <th>4</th>\n",
       "      <td>feel grouchy</td>\n",
       "      <td>anger</td>\n",
       "    </tr>\n",
       "  </tbody>\n",
       "</table>\n",
       "</div>"
      ],
      "text/plain": [
       "                                            document  emotion\n",
       "0                               didnt feel humiliate  sadness\n",
       "1  go feeling hopeless damn hopeful around someon...  sadness\n",
       "2              im grab minute post feel greedy wrong    anger\n",
       "3  ever feel nostalgic fireplace know still property     love\n",
       "4                                       feel grouchy    anger"
      ]
     },
     "execution_count": 8,
     "metadata": {},
     "output_type": "execute_result"
    }
   ],
   "source": [
    "df_train.head()"
   ]
  },
  {
   "cell_type": "code",
   "execution_count": 9,
   "id": "14df361b",
   "metadata": {},
   "outputs": [],
   "source": [
    "# Define a function for data preprocessing\n",
    "def preprocessing(df):\n",
    "    df['document'] = df['document'].apply(lambda text: remove_nonalphabet(text))\n",
    "    df['document'] = df['document'].str.lower()\n",
    "    df['document'] = df['document'].apply(lambda text: remove_stopwords(text))\n",
    "    df['document'] = df['document'].apply(lambda text: lemmatize_words(text))\n",
    "    return df"
   ]
  },
  {
   "cell_type": "code",
   "execution_count": 10,
   "id": "f52aa33f",
   "metadata": {},
   "outputs": [],
   "source": [
    "# Load the test data\n",
    "df_test = pd.read_csv('/Users/sihanzhang/Desktop/test.txt' , sep=';' , header=None)\n",
    "df_test.columns = ['document', 'emotion']"
   ]
  },
  {
   "cell_type": "code",
   "execution_count": 11,
   "id": "d71a61b7",
   "metadata": {},
   "outputs": [
    {
     "data": {
      "text/html": [
       "<div>\n",
       "<style scoped>\n",
       "    .dataframe tbody tr th:only-of-type {\n",
       "        vertical-align: middle;\n",
       "    }\n",
       "\n",
       "    .dataframe tbody tr th {\n",
       "        vertical-align: top;\n",
       "    }\n",
       "\n",
       "    .dataframe thead th {\n",
       "        text-align: right;\n",
       "    }\n",
       "</style>\n",
       "<table border=\"1\" class=\"dataframe\">\n",
       "  <thead>\n",
       "    <tr style=\"text-align: right;\">\n",
       "      <th></th>\n",
       "      <th>document</th>\n",
       "      <th>emotion</th>\n",
       "    </tr>\n",
       "  </thead>\n",
       "  <tbody>\n",
       "    <tr>\n",
       "      <th>0</th>\n",
       "      <td>im feel rather rotten im ambitious right</td>\n",
       "      <td>sadness</td>\n",
       "    </tr>\n",
       "    <tr>\n",
       "      <th>1</th>\n",
       "      <td>im update blog feel shitty</td>\n",
       "      <td>sadness</td>\n",
       "    </tr>\n",
       "    <tr>\n",
       "      <th>2</th>\n",
       "      <td>never make separate ever want feel like ashamed</td>\n",
       "      <td>sadness</td>\n",
       "    </tr>\n",
       "    <tr>\n",
       "      <th>3</th>\n",
       "      <td>leave bouquet red yellow tulip arm feeling sli...</td>\n",
       "      <td>joy</td>\n",
       "    </tr>\n",
       "    <tr>\n",
       "      <th>4</th>\n",
       "      <td>feel little vain one</td>\n",
       "      <td>sadness</td>\n",
       "    </tr>\n",
       "  </tbody>\n",
       "</table>\n",
       "</div>"
      ],
      "text/plain": [
       "                                            document  emotion\n",
       "0           im feel rather rotten im ambitious right  sadness\n",
       "1                         im update blog feel shitty  sadness\n",
       "2    never make separate ever want feel like ashamed  sadness\n",
       "3  leave bouquet red yellow tulip arm feeling sli...      joy\n",
       "4                               feel little vain one  sadness"
      ]
     },
     "execution_count": 11,
     "metadata": {},
     "output_type": "execute_result"
    }
   ],
   "source": [
    "df_test = preprocessing(df_test)\n",
    "df_test.head()"
   ]
  },
  {
   "cell_type": "code",
   "execution_count": 12,
   "id": "302a5760",
   "metadata": {},
   "outputs": [],
   "source": [
    "# Load the validation data\n",
    "df_val = pd.read_csv('/Users/sihanzhang/Desktop/val.txt' , sep=';' , header=None)\n",
    "df_val.columns = ['document', 'emotion']"
   ]
  },
  {
   "cell_type": "code",
   "execution_count": 13,
   "id": "642770e2",
   "metadata": {},
   "outputs": [
    {
     "data": {
      "text/html": [
       "<div>\n",
       "<style scoped>\n",
       "    .dataframe tbody tr th:only-of-type {\n",
       "        vertical-align: middle;\n",
       "    }\n",
       "\n",
       "    .dataframe tbody tr th {\n",
       "        vertical-align: top;\n",
       "    }\n",
       "\n",
       "    .dataframe thead th {\n",
       "        text-align: right;\n",
       "    }\n",
       "</style>\n",
       "<table border=\"1\" class=\"dataframe\">\n",
       "  <thead>\n",
       "    <tr style=\"text-align: right;\">\n",
       "      <th></th>\n",
       "      <th>document</th>\n",
       "      <th>emotion</th>\n",
       "    </tr>\n",
       "  </thead>\n",
       "  <tbody>\n",
       "    <tr>\n",
       "      <th>0</th>\n",
       "      <td>im feel quite sad sorry ill snap soon</td>\n",
       "      <td>sadness</td>\n",
       "    </tr>\n",
       "    <tr>\n",
       "      <th>1</th>\n",
       "      <td>feel like still look blank canvas blank piece ...</td>\n",
       "      <td>sadness</td>\n",
       "    </tr>\n",
       "    <tr>\n",
       "      <th>2</th>\n",
       "      <td>feel like faithful servant</td>\n",
       "      <td>love</td>\n",
       "    </tr>\n",
       "    <tr>\n",
       "      <th>3</th>\n",
       "      <td>feel cranky blue</td>\n",
       "      <td>anger</td>\n",
       "    </tr>\n",
       "    <tr>\n",
       "      <th>4</th>\n",
       "      <td>treat feeling festive</td>\n",
       "      <td>joy</td>\n",
       "    </tr>\n",
       "  </tbody>\n",
       "</table>\n",
       "</div>"
      ],
      "text/plain": [
       "                                            document  emotion\n",
       "0              im feel quite sad sorry ill snap soon  sadness\n",
       "1  feel like still look blank canvas blank piece ...  sadness\n",
       "2                         feel like faithful servant     love\n",
       "3                                   feel cranky blue    anger\n",
       "4                              treat feeling festive      joy"
      ]
     },
     "execution_count": 13,
     "metadata": {},
     "output_type": "execute_result"
    }
   ],
   "source": [
    "df_val = preprocessing(df_val)\n",
    "df_val.head()"
   ]
  },
  {
   "cell_type": "markdown",
   "id": "4658d8d7",
   "metadata": {},
   "source": [
    " "
   ]
  },
  {
   "cell_type": "markdown",
   "id": "f27e09f9",
   "metadata": {},
   "source": [
    "## 4. Modeling"
   ]
  },
  {
   "cell_type": "code",
   "execution_count": 14,
   "id": "ef048a88",
   "metadata": {},
   "outputs": [],
   "source": [
    "# !pip install -U keras"
   ]
  },
  {
   "cell_type": "code",
   "execution_count": 15,
   "id": "3ef83ae7",
   "metadata": {
    "scrolled": false
   },
   "outputs": [],
   "source": [
    "# !pip install tensorflow"
   ]
  },
  {
   "cell_type": "code",
   "execution_count": 16,
   "id": "c9238cba",
   "metadata": {},
   "outputs": [],
   "source": [
    "import re\n",
    "import string\n",
    "import numpy as np\n",
    "import pandas as pd\n",
    "import matplotlib.pyplot as plt\n",
    "\n",
    "from sklearn.preprocessing import LabelEncoder\n",
    "from sklearn.model_selection import train_test_split\n",
    "\n",
    "from sklearn.metrics import accuracy_score\n",
    "from sklearn.metrics import precision_score\n",
    "from sklearn.metrics import recall_score\n",
    "from sklearn.metrics import f1_score\n",
    "\n",
    "from tensorflow.keras.utils import to_categorical\n",
    "from tensorflow.keras.preprocessing.text import Tokenizer\n",
    "from tensorflow.keras.preprocessing.sequence import pad_sequences\n",
    "\n",
    "from tensorflow.keras.optimizers import Adam\n",
    "from tensorflow.keras.models import Sequential\n",
    "from tensorflow.keras.callbacks import EarlyStopping\n",
    "from tensorflow.keras.layers import Dense, LSTM, Embedding, Bidirectional"
   ]
  },
  {
   "cell_type": "code",
   "execution_count": 17,
   "id": "82d90ed1",
   "metadata": {},
   "outputs": [],
   "source": [
    "X_train = df_train['document']\n",
    "y_train = df_train['emotion']\n",
    "X_test = df_test['document']\n",
    "y_test = df_test['emotion']\n",
    "X_val = df_val['document']\n",
    "y_val = df_val['emotion']"
   ]
  },
  {
   "cell_type": "code",
   "execution_count": 18,
   "id": "6d2870a5",
   "metadata": {},
   "outputs": [],
   "source": [
    "# Encode labels\n",
    "\n",
    "le = LabelEncoder()\n",
    "y_train = le.fit_transform(y_train)\n",
    "y_test = le.transform(y_test)\n",
    "y_val = le.transform(y_val)\n",
    "\n",
    "y_train = to_categorical(y_train)\n",
    "y_test = to_categorical(y_test)\n",
    "y_val = to_categorical(y_val)"
   ]
  },
  {
   "cell_type": "code",
   "execution_count": 33,
   "id": "0e1f9faf",
   "metadata": {},
   "outputs": [
    {
     "name": "stdout",
     "output_type": "stream",
     "text": [
      "Vocabulary size = 13169\n"
     ]
    }
   ],
   "source": [
    "# Tokenize words\n",
    "tokenizer = Tokenizer()\n",
    "tokenizer.fit_on_texts(pd.concat([X_train, X_test], axis=0))\n",
    "\n",
    "\n",
    "sequences_train = tokenizer.texts_to_sequences(X_train)\n",
    "sequences_test = tokenizer.texts_to_sequences(X_test)\n",
    "sequences_val = tokenizer.texts_to_sequences(X_val)\n",
    "\n",
    "X_train = pad_sequences(sequences_train, maxlen=256, truncating='pre')\n",
    "X_test = pad_sequences(sequences_test, maxlen=256, truncating='pre')\n",
    "X_val = pad_sequences(sequences_val, maxlen=256, truncating='pre')\n",
    "\n",
    "vocabSize = len(tokenizer.index_word) + 1\n",
    "print(f\"Vocabulary size = {vocabSize}\")"
   ]
  },
  {
   "cell_type": "code",
   "execution_count": 34,
   "id": "22bcf308",
   "metadata": {},
   "outputs": [
    {
     "name": "stdout",
     "output_type": "stream",
     "text": [
      "Found 400000 word vectors.\n",
      "Converted 12054 words (1114 misses)\n"
     ]
    }
   ],
   "source": [
    "# Read GloVE embeddings\n",
    "\n",
    "path_to_glove_file = '/Users/sihanzhang/Desktop/glove.6B.200d.txt'\n",
    "num_tokens = vocabSize\n",
    "embedding_dim = 200\n",
    "hits = 0\n",
    "misses = 0\n",
    "embeddings_index = {}\n",
    "\n",
    "# Read word vectors\n",
    "with open(path_to_glove_file) as f:\n",
    "    for line in f:\n",
    "        word, coefs = line.split(maxsplit=1)\n",
    "        coefs = np.fromstring(coefs, \"f\", sep=\" \")\n",
    "        embeddings_index[word] = coefs\n",
    "print(\"Found %s word vectors.\" % len(embeddings_index))\n",
    "\n",
    "\n",
    "# Assign word vectors to our dictionary/vocabulary\n",
    "embedding_matrix = np.zeros((num_tokens, embedding_dim))\n",
    "for word, i in tokenizer.word_index.items():\n",
    "    embedding_vector = embeddings_index.get(word)\n",
    "    if embedding_vector is not None:\n",
    "        # Words not found in embedding index will be all-zeros.\n",
    "        # This includes the representation for \"padding\" and \"OOV\"\n",
    "        embedding_matrix[i] = embedding_vector\n",
    "        hits += 1\n",
    "    else:\n",
    "        misses += 1\n",
    "print(\"Converted %d words (%d misses)\" % (hits, misses))"
   ]
  },
  {
   "cell_type": "markdown",
   "id": "0847cdd9",
   "metadata": {},
   "source": [
    "The result could be more robust if we set non-zero recurrent_dropout, but it would lead to a warning that Layer lstm_3 will not use cuDNN kernels since it doesn't meet the criteria. \n",
    "\n",
    "The requirements to use the cuDNN implementation are:\n",
    "\n",
    "<li>activation == tanh\n",
    "<li>recurrent_activation == sigmoid\n",
    "<li>recurrent_dropout == 0\n",
    "<li>unroll is False\n",
    "<li>use_bias is True\n",
    "<li>Inputs, if use masking, are strictly right-padded.\n",
    "<li>Eager execution is enabled in the outermost context.\n",
    "\n",
    "https://keras.io/api/layers/recurrent_layers/lstm/\n",
    "\n",
    "If cuDNN is not enabled, it will cost too much training time.\n",
    "\n",
    "Therefore, here I use zero recurrent_dropout as a demo."
   ]
  },
  {
   "cell_type": "code",
   "execution_count": 35,
   "id": "78c49a1c",
   "metadata": {},
   "outputs": [
    {
     "name": "stdout",
     "output_type": "stream",
     "text": [
      "Metal device set to: Apple M1 Pro\n"
     ]
    },
    {
     "name": "stderr",
     "output_type": "stream",
     "text": [
      "2022-05-16 18:25:09.304774: I tensorflow/core/common_runtime/pluggable_device/pluggable_device_factory.cc:305] Could not identify NUMA node of platform GPU ID 0, defaulting to 0. Your kernel may not have been built with NUMA support.\n",
      "2022-05-16 18:25:09.304883: I tensorflow/core/common_runtime/pluggable_device/pluggable_device_factory.cc:271] Created TensorFlow device (/job:localhost/replica:0/task:0/device:GPU:0 with 0 MB memory) -> physical PluggableDevice (device: 0, name: METAL, pci bus id: <undefined>)\n"
     ]
    },
    {
     "name": "stdout",
     "output_type": "stream",
     "text": [
      "Model: \"sequential\"\n",
      "_________________________________________________________________\n",
      " Layer (type)                Output Shape              Param #   \n",
      "=================================================================\n",
      " embedding (Embedding)       (None, 256, 200)          2633800   \n",
      "                                                                 \n",
      " bidirectional (Bidirectiona  (None, 256, 512)         935936    \n",
      " l)                                                              \n",
      "                                                                 \n",
      " bidirectional_1 (Bidirectio  (None, 256, 256)         656384    \n",
      " nal)                                                            \n",
      "                                                                 \n",
      " bidirectional_2 (Bidirectio  (None, 256)              394240    \n",
      " nal)                                                            \n",
      "                                                                 \n",
      " dense (Dense)               (None, 6)                 1542      \n",
      "                                                                 \n",
      "=================================================================\n",
      "Total params: 4,621,902\n",
      "Trainable params: 1,988,102\n",
      "Non-trainable params: 2,633,800\n",
      "_________________________________________________________________\n"
     ]
    }
   ],
   "source": [
    "# Build neural network architecture\n",
    "\n",
    "adam = Adam(learning_rate=0.005)\n",
    "\n",
    "model = Sequential()\n",
    "model.add(Embedding(vocabSize, 200, input_length=X_train.shape[1], weights=[embedding_matrix], trainable=False))\n",
    "model.add(Bidirectional(LSTM(256, dropout=0.2, recurrent_dropout=0, return_sequences=True)))\n",
    "model.add(Bidirectional(LSTM(128, dropout=0.2, recurrent_dropout=0, return_sequences=True)))\n",
    "model.add(Bidirectional(LSTM(128, dropout=0.2, recurrent_dropout=0)))\n",
    "model.add(Dense(6, activation='softmax'))\n",
    "\n",
    "model.compile(loss='categorical_crossentropy', optimizer=adam, metrics=['accuracy'])\n",
    "model.summary()"
   ]
  },
  {
   "cell_type": "code",
   "execution_count": 36,
   "id": "e2b95144",
   "metadata": {},
   "outputs": [],
   "source": [
    "callback = EarlyStopping(\n",
    "    monitor=\"val_loss\",\n",
    "    patience=2,\n",
    "    restore_best_weights=True,\n",
    ")"
   ]
  },
  {
   "cell_type": "code",
   "execution_count": 37,
   "id": "9615c27b",
   "metadata": {},
   "outputs": [
    {
     "name": "stdout",
     "output_type": "stream",
     "text": [
      "Epoch 1/10\n"
     ]
    },
    {
     "name": "stderr",
     "output_type": "stream",
     "text": [
      "2022-05-16 18:25:10.245152: W tensorflow/core/platform/profile_utils/cpu_utils.cc:128] Failed to get CPU frequency: 0 Hz\n",
      "2022-05-16 18:25:13.535204: I tensorflow/core/grappler/optimizers/custom_graph_optimizer_registry.cc:113] Plugin optimizer for device_type GPU is enabled.\n",
      "2022-05-16 18:25:14.066683: I tensorflow/core/grappler/optimizers/custom_graph_optimizer_registry.cc:113] Plugin optimizer for device_type GPU is enabled.\n",
      "2022-05-16 18:25:14.083270: I tensorflow/core/grappler/optimizers/custom_graph_optimizer_registry.cc:113] Plugin optimizer for device_type GPU is enabled.\n",
      "2022-05-16 18:25:14.890508: I tensorflow/core/grappler/optimizers/custom_graph_optimizer_registry.cc:113] Plugin optimizer for device_type GPU is enabled.\n",
      "2022-05-16 18:25:14.999586: I tensorflow/core/grappler/optimizers/custom_graph_optimizer_registry.cc:113] Plugin optimizer for device_type GPU is enabled.\n",
      "2022-05-16 18:25:15.608553: I tensorflow/core/grappler/optimizers/custom_graph_optimizer_registry.cc:113] Plugin optimizer for device_type GPU is enabled.\n",
      "2022-05-16 18:25:15.621634: I tensorflow/core/grappler/optimizers/custom_graph_optimizer_registry.cc:113] Plugin optimizer for device_type GPU is enabled.\n",
      "2022-05-16 18:25:16.395811: I tensorflow/core/grappler/optimizers/custom_graph_optimizer_registry.cc:113] Plugin optimizer for device_type GPU is enabled.\n",
      "2022-05-16 18:25:16.412200: I tensorflow/core/grappler/optimizers/custom_graph_optimizer_registry.cc:113] Plugin optimizer for device_type GPU is enabled.\n",
      "2022-05-16 18:25:17.523630: I tensorflow/core/grappler/optimizers/custom_graph_optimizer_registry.cc:113] Plugin optimizer for device_type GPU is enabled.\n",
      "2022-05-16 18:25:17.532682: I tensorflow/core/grappler/optimizers/custom_graph_optimizer_registry.cc:113] Plugin optimizer for device_type GPU is enabled.\n",
      "2022-05-16 18:25:18.820486: I tensorflow/core/grappler/optimizers/custom_graph_optimizer_registry.cc:113] Plugin optimizer for device_type GPU is enabled.\n",
      "2022-05-16 18:25:18.856687: I tensorflow/core/grappler/optimizers/custom_graph_optimizer_registry.cc:113] Plugin optimizer for device_type GPU is enabled.\n"
     ]
    },
    {
     "name": "stdout",
     "output_type": "stream",
     "text": [
      "63/63 [==============================] - ETA: 0s - loss: 1.1645 - accuracy: 0.5703"
     ]
    },
    {
     "name": "stderr",
     "output_type": "stream",
     "text": [
      "2022-05-16 18:27:04.764910: I tensorflow/core/grappler/optimizers/custom_graph_optimizer_registry.cc:113] Plugin optimizer for device_type GPU is enabled.\n",
      "2022-05-16 18:27:04.958241: I tensorflow/core/grappler/optimizers/custom_graph_optimizer_registry.cc:113] Plugin optimizer for device_type GPU is enabled.\n",
      "2022-05-16 18:27:04.972246: I tensorflow/core/grappler/optimizers/custom_graph_optimizer_registry.cc:113] Plugin optimizer for device_type GPU is enabled.\n",
      "2022-05-16 18:27:05.946105: I tensorflow/core/grappler/optimizers/custom_graph_optimizer_registry.cc:113] Plugin optimizer for device_type GPU is enabled.\n",
      "2022-05-16 18:27:06.049019: I tensorflow/core/grappler/optimizers/custom_graph_optimizer_registry.cc:113] Plugin optimizer for device_type GPU is enabled.\n",
      "2022-05-16 18:27:06.689843: I tensorflow/core/grappler/optimizers/custom_graph_optimizer_registry.cc:113] Plugin optimizer for device_type GPU is enabled.\n",
      "2022-05-16 18:27:06.699026: I tensorflow/core/grappler/optimizers/custom_graph_optimizer_registry.cc:113] Plugin optimizer for device_type GPU is enabled.\n"
     ]
    },
    {
     "name": "stdout",
     "output_type": "stream",
     "text": [
      "63/63 [==============================] - 121s 2s/step - loss: 1.1645 - accuracy: 0.5703 - val_loss: 0.6926 - val_accuracy: 0.7575\n",
      "Epoch 2/10\n",
      "63/63 [==============================] - 110s 2s/step - loss: 0.5690 - accuracy: 0.8043 - val_loss: 0.4075 - val_accuracy: 0.8565\n",
      "Epoch 3/10\n",
      "63/63 [==============================] - 105s 2s/step - loss: 0.3409 - accuracy: 0.8753 - val_loss: 0.2615 - val_accuracy: 0.8925\n",
      "Epoch 4/10\n",
      "63/63 [==============================] - 113s 2s/step - loss: 0.2295 - accuracy: 0.9123 - val_loss: 0.2219 - val_accuracy: 0.9090\n",
      "Epoch 5/10\n",
      "63/63 [==============================] - 110s 2s/step - loss: 0.1702 - accuracy: 0.9263 - val_loss: 0.2162 - val_accuracy: 0.9050\n",
      "Epoch 6/10\n",
      "63/63 [==============================] - 109s 2s/step - loss: 0.1450 - accuracy: 0.9354 - val_loss: 0.2062 - val_accuracy: 0.9085\n",
      "Epoch 7/10\n",
      "63/63 [==============================] - 118s 2s/step - loss: 0.1187 - accuracy: 0.9442 - val_loss: 0.2265 - val_accuracy: 0.9040\n",
      "Epoch 8/10\n",
      "63/63 [==============================] - 109s 2s/step - loss: 0.1064 - accuracy: 0.9483 - val_loss: 0.2179 - val_accuracy: 0.9045\n"
     ]
    }
   ],
   "source": [
    "# Find optimal number of epochs\n",
    "history = model.fit(X_train,\n",
    "                    y_train,\n",
    "                    validation_data=(X_test, y_test),\n",
    "                    verbose=1,\n",
    "                    batch_size=256,\n",
    "                    epochs=10,\n",
    "                    callbacks=[callback]\n",
    "                   )"
   ]
  },
  {
   "cell_type": "code",
   "execution_count": 38,
   "id": "d63914e7",
   "metadata": {},
   "outputs": [
    {
     "name": "stdout",
     "output_type": "stream",
     "text": [
      "63/63 [==============================] - 13s 192ms/step - loss: 0.2187 - accuracy: 0.9205\n"
     ]
    },
    {
     "data": {
      "text/plain": [
       "[0.21870341897010803, 0.9205000400543213]"
      ]
     },
     "execution_count": 38,
     "metadata": {},
     "output_type": "execute_result"
    }
   ],
   "source": [
    "model.evaluate(X_val, y_val, verbose=1)"
   ]
  },
  {
   "cell_type": "code",
   "execution_count": 39,
   "id": "def96cd6",
   "metadata": {},
   "outputs": [
    {
     "data": {
      "image/png": "[encoded data removed]",
      "text/plain": [
       "<Figure size 432x288 with 1 Axes>"
      ]
     },
     "metadata": {
      "needs_background": "light"
     },
     "output_type": "display_data"
    },
    {
     "data": {
      "image/png": "[encoded data removed]",
      "text/plain": [
       "<Figure size 432x288 with 1 Axes>"
      ]
     },
     "metadata": {
      "needs_background": "light"
     },
     "output_type": "display_data"
    }
   ],
   "source": [
    "# Visualize Loss & Accuracy\n",
    "\n",
    "%matplotlib inline\n",
    "import matplotlib.pyplot as plt\n",
    "acc = history.history['accuracy']\n",
    "val_acc = history.history['val_accuracy']\n",
    "loss = history.history['loss']\n",
    "val_loss = history.history['val_loss']\n",
    "\n",
    "epochs = range(len(acc))\n",
    "\n",
    "plt.plot(epochs, acc, 'r', label='Training accuracy')\n",
    "plt.plot(epochs, val_acc, 'b', label='Validation accuracy')\n",
    "plt.title('Training and validation accuracy')\n",
    "plt.legend()\n",
    "plt.figure()\n",
    "\n",
    "plt.plot(epochs, loss, 'r', label='Training Loss')\n",
    "plt.plot(epochs, val_loss, 'b', label='Validation Loss')\n",
    "plt.title('Training and validation loss')\n",
    "plt.legend()\n",
    "\n",
    "plt.show()"
   ]
  },
  {
   "cell_type": "code",
   "execution_count": 40,
   "id": "7801fc30",
   "metadata": {},
   "outputs": [
    {
     "name": "stdout",
     "output_type": "stream",
     "text": [
      "63/63 [==============================] - 11s 177ms/step - loss: 0.2348 - accuracy: 0.9045\n"
     ]
    }
   ],
   "source": [
    "test_loss, test_accuracy = model.evaluate(X_test, y_test, verbose=1)"
   ]
  },
  {
   "cell_type": "code",
   "execution_count": 41,
   "id": "9ca04101",
   "metadata": {},
   "outputs": [
    {
     "name": "stderr",
     "output_type": "stream",
     "text": [
      "2022-05-16 18:40:30.571166: I tensorflow/core/grappler/optimizers/custom_graph_optimizer_registry.cc:113] Plugin optimizer for device_type GPU is enabled.\n",
      "2022-05-16 18:40:30.764266: I tensorflow/core/grappler/optimizers/custom_graph_optimizer_registry.cc:113] Plugin optimizer for device_type GPU is enabled.\n",
      "2022-05-16 18:40:30.772669: I tensorflow/core/grappler/optimizers/custom_graph_optimizer_registry.cc:113] Plugin optimizer for device_type GPU is enabled.\n",
      "2022-05-16 18:40:31.311624: I tensorflow/core/grappler/optimizers/custom_graph_optimizer_registry.cc:113] Plugin optimizer for device_type GPU is enabled.\n",
      "2022-05-16 18:40:31.320856: I tensorflow/core/grappler/optimizers/custom_graph_optimizer_registry.cc:113] Plugin optimizer for device_type GPU is enabled.\n",
      "2022-05-16 18:40:31.817795: I tensorflow/core/grappler/optimizers/custom_graph_optimizer_registry.cc:113] Plugin optimizer for device_type GPU is enabled.\n",
      "2022-05-16 18:40:31.826119: I tensorflow/core/grappler/optimizers/custom_graph_optimizer_registry.cc:113] Plugin optimizer for device_type GPU is enabled.\n"
     ]
    }
   ],
   "source": [
    "y_pred = model.predict(X_test)"
   ]
  },
  {
   "cell_type": "code",
   "execution_count": 42,
   "id": "8f8d7abf",
   "metadata": {},
   "outputs": [],
   "source": [
    "rounded_y_test = np.argmax(y_test, axis=1)\n",
    "rounded_y_pred = np.argmax(y_pred, axis=1)"
   ]
  },
  {
   "cell_type": "code",
   "execution_count": 43,
   "id": "0b726d6a",
   "metadata": {},
   "outputs": [
    {
     "data": {
      "text/plain": [
       "0.9045"
      ]
     },
     "execution_count": 43,
     "metadata": {},
     "output_type": "execute_result"
    }
   ],
   "source": [
    "accuracy_score(rounded_y_test, rounded_y_pred)"
   ]
  },
  {
   "cell_type": "code",
   "execution_count": 44,
   "id": "ec78e58e",
   "metadata": {},
   "outputs": [
    {
     "data": {
      "text/plain": [
       "0.9049154995484402"
      ]
     },
     "execution_count": 44,
     "metadata": {},
     "output_type": "execute_result"
    }
   ],
   "source": [
    "precision_score(rounded_y_test, rounded_y_pred, average='weighted') \n",
    "# average{‘micro’, ‘macro’, ‘samples’,’weighted’, ‘binary’} or None, default=’binary’"
   ]
  },
  {
   "cell_type": "code",
   "execution_count": 45,
   "id": "1acd83e5",
   "metadata": {},
   "outputs": [
    {
     "data": {
      "text/plain": [
       "0.9045"
      ]
     },
     "execution_count": 45,
     "metadata": {},
     "output_type": "execute_result"
    }
   ],
   "source": [
    "recall_score(rounded_y_test, rounded_y_pred, average='weighted')"
   ]
  },
  {
   "cell_type": "code",
   "execution_count": 46,
   "id": "8a4bbe5b",
   "metadata": {},
   "outputs": [
    {
     "data": {
      "text/plain": [
       "0.9019670675179853"
      ]
     },
     "execution_count": 46,
     "metadata": {},
     "output_type": "execute_result"
    }
   ],
   "source": [
    "f1_score(rounded_y_test, rounded_y_pred, average='weighted')"
   ]
  },
  {
   "cell_type": "code",
   "execution_count": null,
   "id": "ec0d421d",
   "metadata": {},
   "outputs": [],
   "source": []
  }
 ],
 "metadata": {
  "kernelspec": {
   "display_name": "Python 3 (ipykernel)",
   "language": "python",
   "name": "python3"
  },
  "language_info": {
   "codemirror_mode": {
    "name": "ipython",
    "version": 3
   },
   "file_extension": ".py",
   "mimetype": "text/x-python",
   "name": "python",
   "nbconvert_exporter": "python",
   "pygments_lexer": "ipython3",
   "version": "3.9.10"
  }
 },
 "nbformat": 4,
 "nbformat_minor": 5
}
